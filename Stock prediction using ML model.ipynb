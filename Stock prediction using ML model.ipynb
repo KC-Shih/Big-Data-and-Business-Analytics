{
 "cells": [
  {
   "cell_type": "code",
   "execution_count": 14,
   "metadata": {},
   "outputs": [],
   "source": [
    "import pandas as pd\n",
    "import numpy as np\n",
    "# Import train_test_split function\n",
    "from sklearn.model_selection import train_test_split\n",
    "#Import scikit-learn metrics module for accuracy calculation\n",
    "from sklearn import metrics\n",
    "\n",
    "news_day1 = pd.read_csv(\"news_day1.csv\", encoding = \"utf8\")   #load data\n",
    "news_day1 = news_day1.drop(labels=['ID','date'],axis='columns')  # 去除部分欄位\n",
    "\n",
    "from sklearn.model_selection import train_test_split\n",
    "\n",
    "# Split dataset into training set and test set 可調整training/testing比例\n",
    "cols = [i for i in news_day1.columns if i not in [\"neg/pos\"]]  # 選出除了上漲下跌指標的欄位\n",
    "X = news_day1[cols]\n",
    "Y = news_day1[[\"neg/pos\"]]  # 選出上漲下跌指標的欄位\n",
    "X_train, X_test, y_train, y_test = train_test_split(X, Y, test_size=0.2, random_state=0) #20% testing"
   ]
  },
  {
   "cell_type": "code",
   "execution_count": 15,
   "metadata": {
    "scrolled": true
   },
   "outputs": [],
   "source": [
    "#Import scikit-learn dataset library\n",
    "from sklearn import datasets\n",
    "#Import scikit-learn metrics module for accuracy calculation\n",
    "from sklearn import metrics"
   ]
  },
  {
   "cell_type": "code",
   "execution_count": 16,
   "metadata": {},
   "outputs": [
    {
     "name": "stdout",
     "output_type": "stream",
     "text": [
      "precision_NB: 0.58946\n",
      "recall_NB： 0.95078\n",
      "accuracy_NB： 0.76754\n",
      "prediction     0    1\n",
      "Ture labels          \n",
      "0            425  296\n",
      "1             22  625\n"
     ]
    }
   ],
   "source": [
    "#Gaussian Naive Bayes model\n",
    "from sklearn.naive_bayes import GaussianNB\n",
    "#Create a Gaussian Classifier\n",
    "GNB = GaussianNB()\n",
    "#Train the model using the training sets\n",
    "GNB.fit(X_train, y_train.values.ravel())\n",
    "\n",
    "#Predict the response for test dataset\n",
    "y_pred_NB = GNB.predict(X_test)\n",
    "\n",
    "#Evaluate the model\n",
    "crosstab_NB = pd.crosstab(y_test.values.ravel(), y_pred_NB, rownames=['Ture labels'], colnames=['prediction'])\n",
    "a = int(crosstab_NB[0][:1])\n",
    "b = int(crosstab_NB[1][:1])\n",
    "c = int(crosstab_NB[0][1:])\n",
    "d = int(crosstab_NB[1][1:])\n",
    "precision_NB = a/(a+b)\n",
    "recall_NB = a/(a+c)\n",
    "accuracy_NB = (a+d)/(a+b+c+d)\n",
    "print('precision_NB:',round(precision_NB, 5))\n",
    "print('recall_NB：',round(recall_NB, 5))\n",
    "print('accuracy_NB：',round(accuracy_NB, 5))\n",
    "print(crosstab_NB)"
   ]
  },
  {
   "cell_type": "code",
   "execution_count": 4,
   "metadata": {},
   "outputs": [
    {
     "name": "stdout",
     "output_type": "stream",
     "text": [
      "precision_KNN: 0.88488\n",
      "recall_KNN： 0.91143\n",
      "accuracy_KNN： 0.89401\n",
      "prediction     0    1\n",
      "Ture labels          \n",
      "0            638   83\n",
      "1             62  585\n"
     ]
    }
   ],
   "source": [
    "#K-nearest neighbors Classifier model\n",
    "from sklearn.neighbors import KNeighborsClassifier\n",
    "\n",
    "#Create KNN Classifier\n",
    "KNN = KNeighborsClassifier(n_neighbors=5) #設定neighbor數量\n",
    "\n",
    "#Train the model using the training sets\n",
    "KNN.fit(X_train, y_train.values.ravel())\n",
    "\n",
    "#Predict the response for test dataset\n",
    "y_pred_KNN = KNN.predict(X_test)\n",
    "\n",
    "#Evaluate the model\n",
    "crosstab_KNN = pd.crosstab(y_test.values.ravel(), y_pred_KNN, rownames=['Ture labels'], colnames=['prediction'])\n",
    "a = int(crosstab_KNN[0][:1])\n",
    "b = int(crosstab_KNN[1][:1])\n",
    "c = int(crosstab_KNN[0][1:])\n",
    "d = int(crosstab_KNN[1][1:])\n",
    "precision_KNN = a/(a+b)\n",
    "recall_KNN = a/(a+c)\n",
    "accuracy_KNN = (a+d)/(a+b+c+d)\n",
    "print('precision_KNN:',round(precision_KNN, 5))\n",
    "print('recall_KNN：',round(recall_KNN, 5))\n",
    "print('accuracy_KNN：',round(accuracy_KNN, 5))\n",
    "print(crosstab_KNN)"
   ]
  },
  {
   "cell_type": "code",
   "execution_count": 5,
   "metadata": {},
   "outputs": [
    {
     "name": "stdout",
     "output_type": "stream",
     "text": [
      "precision_SVM: 0.92372\n",
      "recall_SVM： 0.94602\n",
      "accuracy_SVM： 0.93202\n",
      "prediction     0    1\n",
      "Ture labels          \n",
      "0            666   55\n",
      "1             38  609\n"
     ]
    }
   ],
   "source": [
    "#SVM model\n",
    "from sklearn import svm\n",
    "\n",
    "#Create a svm Classifier\n",
    "SVM = svm.SVC(C=100000, kernel=\"rbf\", gamma=0.01)\n",
    "\n",
    "#Train the model using the training sets\n",
    "SVM.fit(X_train, y_train.values.ravel())\n",
    "\n",
    "#Predict the response for test dataset\n",
    "y_pred_SVM = SVM.predict(X_test)\n",
    "\n",
    "#Evaluate the model\n",
    "crosstab_SVM = pd.crosstab(y_test.values.ravel(), y_pred_SVM, rownames=['Ture labels'], colnames=['prediction'])\n",
    "a = int(crosstab_SVM[0][:1])\n",
    "b = int(crosstab_SVM[1][:1])\n",
    "c = int(crosstab_SVM[0][1:])\n",
    "d = int(crosstab_SVM[1][1:])\n",
    "precision_SVM = a/(a+b)\n",
    "recall_SVM = a/(a+c)\n",
    "accuracy_SVM = (a+d)/(a+b+c+d)\n",
    "print('precision_SVM:',round(precision_SVM, 5))\n",
    "print('recall_SVM：',round(recall_SVM, 5))\n",
    "print('accuracy_SVM：',round(accuracy_SVM, 5))\n",
    "print(crosstab_SVM)"
   ]
  },
  {
   "cell_type": "code",
   "execution_count": 6,
   "metadata": {},
   "outputs": [
    {
     "name": "stdout",
     "output_type": "stream",
     "text": [
      "precision_DT: 0.90707\n",
      "recall_DT： 0.89589\n",
      "accuracy_DT： 0.89547\n",
      "prediction     0    1\n",
      "Ture labels          \n",
      "0            654   67\n",
      "1             76  571\n"
     ]
    }
   ],
   "source": [
    "#Decision Tree Model\n",
    "from sklearn import tree\n",
    "\n",
    "#Create a DT Classifier\n",
    "DT = tree.DecisionTreeClassifier()\n",
    "\n",
    "#Train the model using the training sets\n",
    "DT.fit(X_train, y_train.values.ravel())\n",
    "\n",
    "#Predict the response for test dataset\n",
    "y_pred_DT = DT.predict(X_test)\n",
    "\n",
    "#Evaluate the model\n",
    "crosstab_DT = pd.crosstab(y_test.values.ravel(), y_pred_DT, rownames=['Ture labels'], colnames=['prediction'])\n",
    "a = int(crosstab_DT[0][:1])\n",
    "b = int(crosstab_DT[1][:1])\n",
    "c = int(crosstab_DT[0][1:])\n",
    "d = int(crosstab_DT[1][1:])\n",
    "precision_DT = a/(a+b)\n",
    "recall_DT = a/(a+c)\n",
    "accuracy_DT = (a+d)/(a+b+c+d)\n",
    "print('precision_DT:',round(precision_DT, 5))\n",
    "print('recall_DT：',round(recall_DT, 5))\n",
    "print('accuracy_DT：',round(accuracy_DT, 5))\n",
    "print(crosstab_DT)"
   ]
  },
  {
   "cell_type": "code",
   "execution_count": 7,
   "metadata": {},
   "outputs": [
    {
     "name": "stdout",
     "output_type": "stream",
     "text": [
      "precision_RF: 0.94591\n",
      "recall_RF： 0.95518\n",
      "accuracy_RF： 0.9481\n",
      "prediction     0    1\n",
      "Ture labels          \n",
      "0            682   39\n",
      "1             32  615\n"
     ]
    }
   ],
   "source": [
    "#Random Forest Model\n",
    "from sklearn.ensemble import RandomForestClassifier\n",
    "\n",
    "#Create a Gaussian Classifier n_estimators: 決定要有多少棵tree，一般會選100\n",
    "RF = RandomForestClassifier(n_estimators=100)\n",
    "\n",
    "#Train the model using the training sets\n",
    "RF.fit(X_train,y_train.values.ravel())\n",
    "\n",
    "#Predict the response for test dataset\n",
    "y_pred_RF = RF.predict(X_test)\n",
    "\n",
    "#Evaluate the model\n",
    "crosstab_RF = pd.crosstab(y_test.values.ravel(), y_pred_RF, rownames=['Ture labels'], colnames=['prediction'])\n",
    "a = int(crosstab_RF[0][:1])\n",
    "b = int(crosstab_RF[1][:1])\n",
    "c = int(crosstab_RF[0][1:])\n",
    "d = int(crosstab_RF[1][1:])\n",
    "precision_RF = a/(a+b)\n",
    "recall_RF = a/(a+c)\n",
    "accuracy_RF = (a+d)/(a+b+c+d)\n",
    "print('precision_RF:',round(precision_RF, 5))\n",
    "print('recall_RF：',round(recall_RF, 5))\n",
    "print('accuracy_RF：',round(accuracy_RF, 5))\n",
    "print(crosstab_RF)"
   ]
  },
  {
   "cell_type": "code",
   "execution_count": 8,
   "metadata": {},
   "outputs": [
    {
     "name": "stdout",
     "output_type": "stream",
     "text": [
      "precision_vote: 0.95146\n",
      "recall_vote： 0.9541\n",
      "accuracy_vote： 0.95029\n",
      "prediction     0    1\n",
      "Ture labels          \n",
      "0            686   35\n",
      "1             33  614\n"
     ]
    }
   ],
   "source": [
    "y_pred_vote = y_pred_NB.copy()\n",
    "for i in range(0, y_pred_NB.shape[0]):\n",
    "    if (y_pred_SVM[i] + y_pred_DT[i] + y_pred_RF[i])>=2:\n",
    "        y_pred_vote[i] = 1\n",
    "    else:\n",
    "        y_pred_vote[i] = 0\n",
    "        \n",
    "#Evaluate the model\n",
    "crosstab_vote = pd.crosstab(y_test.values.ravel(), y_pred_vote, rownames=['Ture labels'], colnames=['prediction'])\n",
    "a = int(crosstab_vote[0][:1])\n",
    "b = int(crosstab_vote[1][:1])\n",
    "c = int(crosstab_vote[0][1:])\n",
    "d = int(crosstab_vote[1][1:])\n",
    "precision_vote = a/(a+b)\n",
    "recall_vote = a/(a+c)\n",
    "accuracy_vote = (a+d)/(a+b+c+d)\n",
    "print('precision_vote:',round(precision_vote, 5))\n",
    "print('recall_vote：',round(recall_vote, 5))\n",
    "print('accuracy_vote：',round(accuracy_vote, 5))\n",
    "print(crosstab_vote)"
   ]
  },
  {
   "cell_type": "code",
   "execution_count": null,
   "metadata": {},
   "outputs": [],
   "source": []
  }
 ],
 "metadata": {
  "kernelspec": {
   "display_name": "Python 3",
   "language": "python",
   "name": "python3"
  },
  "language_info": {
   "codemirror_mode": {
    "name": "ipython",
    "version": 3
   },
   "file_extension": ".py",
   "mimetype": "text/x-python",
   "name": "python",
   "nbconvert_exporter": "python",
   "pygments_lexer": "ipython3",
   "version": "3.7.3"
  }
 },
 "nbformat": 4,
 "nbformat_minor": 4
}
